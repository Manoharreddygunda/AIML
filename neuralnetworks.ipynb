{
  "nbformat": 4,
  "nbformat_minor": 0,
  "metadata": {
    "colab": {
      "provenance": [],
      "authorship_tag": "ABX9TyMZX6tjXBAStYoJ3MnnqPAl",
      "include_colab_link": true
    },
    "kernelspec": {
      "name": "python3",
      "display_name": "Python 3"
    },
    "language_info": {
      "name": "python"
    }
  },
  "cells": [
    {
      "cell_type": "markdown",
      "metadata": {
        "id": "view-in-github",
        "colab_type": "text"
      },
      "source": [
        "<a href=\"https://colab.research.google.com/github/Manoharreddygunda/pythoncodes/blob/main/neuralnetworks.ipynb\" target=\"_parent\"><img src=\"https://colab.research.google.com/assets/colab-badge.svg\" alt=\"Open In Colab\"/></a>"
      ]
    },
    {
      "cell_type": "code",
      "source": [
        "inputs=(1,2,3)\n",
        "weights=(1,2,3)\n",
        "bias=2\n",
        "output = inputs[0]*weights[0]+inputs[1]*weights[1]+inputs[2]*weights[2]+bias\n",
        "print(output)"
      ],
      "metadata": {
        "colab": {
          "base_uri": "https://localhost:8080/"
        },
        "id": "hOcVjkGM2Of7",
        "outputId": "ed4ff68a-9df6-4343-e97c-029726abf79e"
      },
      "execution_count": 13,
      "outputs": [
        {
          "output_type": "stream",
          "name": "stdout",
          "text": [
            "16\n"
          ]
        }
      ]
    },
    {
      "cell_type": "code",
      "execution_count": 12,
      "metadata": {
        "colab": {
          "base_uri": "https://localhost:8080/"
        },
        "id": "-54Th6cotiSn",
        "outputId": "5c707858-d914-40b4-b4fc-6672f0645c2b"
      },
      "outputs": [
        {
          "output_type": "stream",
          "name": "stdout",
          "text": [
            "[1.1, 0.55, 1.1600000000000001]\n"
          ]
        }
      ],
      "source": [
        "inputs=[0.4,0.3,1,0.8]\n",
        "weights1 =[0.3,0.2,0.1,0.4]\n",
        "weights2=[0.4,0.1,-0.1,0.2]\n",
        "weights3=[0.2,-0.2,-0.1,0.8]\n",
        "bias1=0.5\n",
        "bias2=0.3\n",
        "bias3=0.6\n",
        "output=[inputs [0]*weights1[0]+inputs [1] *weights1[1]+inputs [2]*weights1[2]+inputs [3]*weights1[3]+bias1,\n",
        "        inputs [0]*weights2[0]+inputs [1]*weights2[1]+inputs [2] *weights2[2]+inputs [3] *weights2[3]+bias2,\n",
        "        inputs [0]*weights3 [0]+inputs [1] *weights3 [1]+inputs [2]*weights3 [2]+inputs [3] *weights3[3]+bias3]\n",
        "print(output)"
      ]
    },
    {
      "cell_type": "code",
      "source": [
        "import numpy as np\n",
        "\n",
        "inputs = np.array([1, 2, 3, 2.5])\n",
        "weights = np.array([\n",
        "    [0.1, 0.2, 0.5],\n",
        "    [0.2, 0.3, 0.6],\n",
        "    [0.3, 0.4, 0.7],\n",
        "    [0.4, 0.5, 0.8],\n",
        "])\n",
        "biases = np.array([2, 3, 0.5])\n",
        "output = np.dot(inputs, weights) + biases\n",
        "print(output)"
      ],
      "metadata": {
        "colab": {
          "base_uri": "https://localhost:8080/"
        },
        "id": "cPsQXlG02iCx",
        "outputId": "89715a19-fcfa-46b4-c8a7-8a8176e7137a"
      },
      "execution_count": 18,
      "outputs": [
        {
          "output_type": "stream",
          "name": "stdout",
          "text": [
            "[4.4  6.25 6.3 ]\n"
          ]
        }
      ]
    },
    {
      "cell_type": "code",
      "source": [
        "import numpy as np\n",
        "\n",
        "def sigmoid(x):\n",
        "    return 1/(1+np.exp(-x))\n",
        "\n",
        "def relu(x):\n",
        "    return np.maximum(0, x)\n",
        "input =np.array([1,2,3,2.5])\n",
        "weights=np.array([0.2,0.8,-0.5,1.0])\n",
        "bias=2\n",
        "output=np.dot(weights,input)+bias\n",
        "output1=relu(output)\n",
        "print(output1)\n",
        "output2=sigmoid(output1)\n",
        "print(output2)"
      ],
      "metadata": {
        "colab": {
          "base_uri": "https://localhost:8080/"
        },
        "id": "bbkmuXLA7hL4",
        "outputId": "f2565d7a-fea7-4a16-f4fc-a39c14bb3624"
      },
      "execution_count": 24,
      "outputs": [
        {
          "output_type": "stream",
          "name": "stdout",
          "text": [
            "4.8\n",
            "0.9918374288468401\n"
          ]
        }
      ]
    }
  ]
}